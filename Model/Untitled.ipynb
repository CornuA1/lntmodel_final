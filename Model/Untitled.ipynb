{
 "cells": [
  {
   "cell_type": "code",
   "execution_count": 6,
   "metadata": {},
   "outputs": [
    {
     "name": "stdout",
     "output_type": "stream",
     "text": [
      "(45009, 3)\n"
     ]
    },
    {
     "name": "stderr",
     "output_type": "stream",
     "text": [
      "<ipython-input-6-d879166bb776>:18: YAMLLoadWarning: calling yaml.load() without Loader=... is deprecated, as the default Loader is unsafe. Please read https://msg.pyyaml.org/load for full details.\n",
      "  loc_info = yaml.load(f)\n"
     ]
    },
    {
     "data": {
      "text/plain": [
       "[<matplotlib.lines.Line2D at 0x1229ef7c0>]"
      ]
     },
     "execution_count": 6,
     "metadata": {},
     "output_type": "execute_result"
    },
    {
     "data": {
      "image/png": "[encoded data removed]",
      "text/plain": [
       "<Figure size 432x288 with 1 Axes>"
      ]
     },
     "metadata": {
      "needs_background": "light"
     },
     "output_type": "display_data"
    }
   ],
   "source": [
    "#!/usr/bin/env python3\n",
    "# -*- coding: utf-8 -*-\n",
    "\"\"\"\n",
    "Created on Wed Jan 20 14:14:04 2021\n",
    "\n",
    "@author: lukasfischer\n",
    "\"\"\"\n",
    "\n",
    "import csv, os, yaml\n",
    "import numpy as np\n",
    "import scipy as sp\n",
    "import matplotlib.pyplot as plt\n",
    "\n",
    "# %matplotlib inline\n",
    "\n",
    "# load yaml file with local filepaths\n",
    "with open('..' + os.sep + 'loc_settings.yaml', 'r') as f:\n",
    "    loc_info = yaml.load(f)\n",
    "\n",
    "# file_path = loc_info[\"raw_dir\"] + \"figure_sample_data\" + os.sep + \"location_correction_heatmap.csv\"\n",
    "\n",
    "# plot_data = np.zeros((0,3))\n",
    "\n",
    "# print(file_path)\n",
    "# with open(file_path) as csvfile:\n",
    "#     datareader = csv.reader(csvfile, delimiter=',')\n",
    "#     headers = next(datareader)\n",
    "       \n",
    "#     for row in datareader:\n",
    "#         # x = np.array((next(datareader)))\n",
    "#         plot_data = np.vstack((plot_data,row))\n",
    "        \n",
    "# print(plot_data.shape)\n",
    "\n",
    "# np.save(file_path, plot_data)\n",
    "\n",
    "file_path = loc_info[\"raw_dir\"] + \"figure_sample_data\" + os.sep + \"location_correction_heatmap.npy\"\n",
    "plot_data = np.load(file_path)\n",
    "print(plot_data.shape)\n",
    "\n",
    "y = np.arange(1,45000,1)\n",
    "\n",
    "plt.plot(y)\n"
   ]
  },
  {
   "cell_type": "code",
   "execution_count": 1,
   "metadata": {},
   "outputs": [
    {
     "name": "stdout",
     "output_type": "stream",
     "text": [
      "Hello\n"
     ]
    }
   ],
   "source": [
    "print(\"Hello\")"
   ]
  },
  {
   "cell_type": "code",
   "execution_count": null,
   "metadata": {},
   "outputs": [],
   "source": []
  }
 ],
 "metadata": {
  "kernelspec": {
   "display_name": "Python 3",
   "language": "python",
   "name": "python3"
  },
  "language_info": {
   "codemirror_mode": {
    "name": "ipython",
    "version": 3
   },
   "file_extension": ".py",
   "mimetype": "text/x-python",
   "name": "python",
   "nbconvert_exporter": "python",
   "pygments_lexer": "ipython3",
   "version": "3.8.3"
  }
 },
 "nbformat": 4,
 "nbformat_minor": 4
}
